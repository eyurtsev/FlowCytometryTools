{
 "cells": [
  {
   "cell_type": "markdown",
   "metadata": {},
   "source": [
    "# Quick Introduction to FlowCytometryTools"
   ]
  },
  {
   "cell_type": "markdown",
   "metadata": {},
   "source": [
    "<pre>\n",
    "Author: Jonathan Friedman & Eugene Yurtsev\n",
    "Last Updated Date: 2013-October-06\n",
    "</pre>"
   ]
  },
  {
   "cell_type": "markdown",
   "metadata": {},
   "source": [
    "<pre>\n",
    "Please read the instructions on the webpage (https://bitbucket.org/gorelab) on how to install these packages.\n",
    "\n",
    "Have fun!\n",
    "</pre>"
   ]
  },
  {
   "cell_type": "markdown",
   "metadata": {},
   "source": [
    "## Load Dependencies"
   ]
  },
  {
   "cell_type": "code",
   "execution_count": 2,
   "metadata": {},
   "outputs": [],
   "source": [
    "import matplotlib"
   ]
  },
  {
   "cell_type": "code",
   "execution_count": 4,
   "metadata": {},
   "outputs": [],
   "source": [
    "%load_ext autoreload\n",
    "%autoreload 2\n",
    "from FlowCytometryTools import FCPlate, FCMeasurement"
   ]
  },
  {
   "cell_type": "markdown",
   "metadata": {},
   "source": [
    "<pre>\n",
    "(Note: The lines above with the % mark instruct python to reload the dependencies if any of them changed.)\n",
    "</pre>"
   ]
  },
  {
   "cell_type": "markdown",
   "metadata": {},
   "source": [
    "## Loading Data"
   ]
  },
  {
   "cell_type": "markdown",
   "metadata": {},
   "source": [
    "### Loading individual files"
   ]
  },
  {
   "cell_type": "code",
   "execution_count": 5,
   "metadata": {},
   "outputs": [
    {
     "name": "stdout",
     "output_type": "stream",
     "text": [
      "Loading file from path: /home/eyurtsev/src/FlowCytometryTools/FlowCytometryTools/tests/data/Plate01/CFP_Well_A4.fcs\n"
     ]
    }
   ],
   "source": [
    "import os, FlowCytometryTools\n",
    "datadir = os.path.join(FlowCytometryTools.__path__[0], 'tests', 'data', 'Plate01')\n",
    "datafile = os.path.join(datadir, 'CFP_Well_A4.fcs')\n",
    "print('Loading file from path: {0}'.format(datafile))\n",
    "sample = FCMeasurement(ID='Test Plate', datafile=datafile)"
   ]
  },
  {
   "cell_type": "code",
   "execution_count": 6,
   "metadata": {},
   "outputs": [
    {
     "data": {
      "text/html": [
       "<div>\n",
       "<style scoped>\n",
       "    .dataframe tbody tr th:only-of-type {\n",
       "        vertical-align: middle;\n",
       "    }\n",
       "\n",
       "    .dataframe tbody tr th {\n",
       "        vertical-align: top;\n",
       "    }\n",
       "\n",
       "    .dataframe thead th {\n",
       "        text-align: right;\n",
       "    }\n",
       "</style>\n",
       "<table border=\"1\" class=\"dataframe\">\n",
       "  <thead>\n",
       "    <tr style=\"text-align: right;\">\n",
       "      <th></th>\n",
       "      <th>HDR-T</th>\n",
       "      <th>FSC-A</th>\n",
       "      <th>FSC-H</th>\n",
       "      <th>FSC-W</th>\n",
       "      <th>SSC-A</th>\n",
       "      <th>SSC-H</th>\n",
       "      <th>SSC-W</th>\n",
       "      <th>V2-A</th>\n",
       "      <th>V2-H</th>\n",
       "      <th>V2-W</th>\n",
       "      <th>Y2-A</th>\n",
       "      <th>Y2-H</th>\n",
       "      <th>Y2-W</th>\n",
       "      <th>B1-A</th>\n",
       "      <th>B1-H</th>\n",
       "      <th>B1-W</th>\n",
       "    </tr>\n",
       "  </thead>\n",
       "  <tbody>\n",
       "    <tr>\n",
       "      <th>0</th>\n",
       "      <td>49.965588</td>\n",
       "      <td>-178.884857</td>\n",
       "      <td>353.545868</td>\n",
       "      <td>-66318.968750</td>\n",
       "      <td>1533.739746</td>\n",
       "      <td>1719.344116</td>\n",
       "      <td>116922.687500</td>\n",
       "      <td>-1.853082</td>\n",
       "      <td>155.241486</td>\n",
       "      <td>-1564.576538</td>\n",
       "      <td>76.817879</td>\n",
       "      <td>161.987320</td>\n",
       "      <td>62157.167969</td>\n",
       "      <td>37.428463</td>\n",
       "      <td>123.476585</td>\n",
       "      <td>38717.894531</td>\n",
       "    </tr>\n",
       "    <tr>\n",
       "      <th>1</th>\n",
       "      <td>76.527428</td>\n",
       "      <td>852.657959</td>\n",
       "      <td>835.975281</td>\n",
       "      <td>133687.671875</td>\n",
       "      <td>2550.609375</td>\n",
       "      <td>2268.379883</td>\n",
       "      <td>147379.843750</td>\n",
       "      <td>453.825867</td>\n",
       "      <td>473.883545</td>\n",
       "      <td>125524.226562</td>\n",
       "      <td>-8.646938</td>\n",
       "      <td>95.399338</td>\n",
       "      <td>-11880.287109</td>\n",
       "      <td>81.703102</td>\n",
       "      <td>203.511353</td>\n",
       "      <td>55865.160156</td>\n",
       "    </tr>\n",
       "    <tr>\n",
       "      <th>2</th>\n",
       "      <td>84.873825</td>\n",
       "      <td>149.076706</td>\n",
       "      <td>249.545868</td>\n",
       "      <td>78301.367188</td>\n",
       "      <td>649.180542</td>\n",
       "      <td>583.344177</td>\n",
       "      <td>145864.812500</td>\n",
       "      <td>176.183197</td>\n",
       "      <td>259.241486</td>\n",
       "      <td>89077.890625</td>\n",
       "      <td>103.054802</td>\n",
       "      <td>169.987320</td>\n",
       "      <td>79462.390625</td>\n",
       "      <td>-63.583694</td>\n",
       "      <td>113.396584</td>\n",
       "      <td>-66386.359375</td>\n",
       "    </tr>\n",
       "    <tr>\n",
       "      <th>3</th>\n",
       "      <td>102.074173</td>\n",
       "      <td>137.832306</td>\n",
       "      <td>385.545868</td>\n",
       "      <td>46858.125000</td>\n",
       "      <td>1889.812378</td>\n",
       "      <td>1815.344116</td>\n",
       "      <td>136448.781250</td>\n",
       "      <td>393.574860</td>\n",
       "      <td>483.241486</td>\n",
       "      <td>106751.273438</td>\n",
       "      <td>67.447548</td>\n",
       "      <td>177.987320</td>\n",
       "      <td>49669.183594</td>\n",
       "      <td>-30.450207</td>\n",
       "      <td>220.916580</td>\n",
       "      <td>-12834.671875</td>\n",
       "    </tr>\n",
       "    <tr>\n",
       "      <th>4</th>\n",
       "      <td>128.748810</td>\n",
       "      <td>728.969604</td>\n",
       "      <td>403.975311</td>\n",
       "      <td>236518.171875</td>\n",
       "      <td>4610.208008</td>\n",
       "      <td>4812.379883</td>\n",
       "      <td>125565.562500</td>\n",
       "      <td>815.520630</td>\n",
       "      <td>841.883545</td>\n",
       "      <td>126967.585938</td>\n",
       "      <td>-49.876392</td>\n",
       "      <td>95.399338</td>\n",
       "      <td>-68526.664062</td>\n",
       "      <td>74.469208</td>\n",
       "      <td>284.151367</td>\n",
       "      <td>39531.890625</td>\n",
       "    </tr>\n",
       "    <tr>\n",
       "      <th>5</th>\n",
       "      <td>137.941116</td>\n",
       "      <td>294.453003</td>\n",
       "      <td>438.331726</td>\n",
       "      <td>88048.710938</td>\n",
       "      <td>2904.758545</td>\n",
       "      <td>2786.016846</td>\n",
       "      <td>136658.359375</td>\n",
       "      <td>173.035522</td>\n",
       "      <td>283.623871</td>\n",
       "      <td>79965.453125</td>\n",
       "      <td>-59.903950</td>\n",
       "      <td>102.645958</td>\n",
       "      <td>-76493.320312</td>\n",
       "      <td>8.475421</td>\n",
       "      <td>221.955460</td>\n",
       "      <td>6873.025879</td>\n",
       "    </tr>\n",
       "    <tr>\n",
       "      <th>6</th>\n",
       "      <td>150.968262</td>\n",
       "      <td>318.913757</td>\n",
       "      <td>529.555420</td>\n",
       "      <td>78935.390625</td>\n",
       "      <td>661.374207</td>\n",
       "      <td>563.780579</td>\n",
       "      <td>153761.312500</td>\n",
       "      <td>16.699892</td>\n",
       "      <td>191.774536</td>\n",
       "      <td>11413.863281</td>\n",
       "      <td>-50.850262</td>\n",
       "      <td>126.095673</td>\n",
       "      <td>-52857.050781</td>\n",
       "      <td>-64.974960</td>\n",
       "      <td>115.337296</td>\n",
       "      <td>-71095.257812</td>\n",
       "    </tr>\n",
       "    <tr>\n",
       "      <th>7</th>\n",
       "      <td>219.036514</td>\n",
       "      <td>452.674591</td>\n",
       "      <td>488.936646</td>\n",
       "      <td>121351.023438</td>\n",
       "      <td>3811.465820</td>\n",
       "      <td>3822.007568</td>\n",
       "      <td>130710.484375</td>\n",
       "      <td>347.217773</td>\n",
       "      <td>396.821594</td>\n",
       "      <td>114687.632812</td>\n",
       "      <td>-54.259144</td>\n",
       "      <td>166.497772</td>\n",
       "      <td>-42714.414062</td>\n",
       "      <td>168.545929</td>\n",
       "      <td>217.445038</td>\n",
       "      <td>102057.468750</td>\n",
       "    </tr>\n",
       "    <tr>\n",
       "      <th>8</th>\n",
       "      <td>264.772491</td>\n",
       "      <td>738.538696</td>\n",
       "      <td>699.472595</td>\n",
       "      <td>138392.468750</td>\n",
       "      <td>5394.855957</td>\n",
       "      <td>5304.784668</td>\n",
       "      <td>133297.500000</td>\n",
       "      <td>617.679260</td>\n",
       "      <td>547.107300</td>\n",
       "      <td>147979.125000</td>\n",
       "      <td>101.993309</td>\n",
       "      <td>171.649246</td>\n",
       "      <td>77882.468750</td>\n",
       "      <td>88.940910</td>\n",
       "      <td>135.640656</td>\n",
       "      <td>90575.921875</td>\n",
       "    </tr>\n",
       "    <tr>\n",
       "      <th>9</th>\n",
       "      <td>270.806732</td>\n",
       "      <td>302.953156</td>\n",
       "      <td>484.002472</td>\n",
       "      <td>82042.296875</td>\n",
       "      <td>1925.513184</td>\n",
       "      <td>1823.219971</td>\n",
       "      <td>138425.906250</td>\n",
       "      <td>169.946136</td>\n",
       "      <td>396.386536</td>\n",
       "      <td>56195.601562</td>\n",
       "      <td>36.483852</td>\n",
       "      <td>78.047562</td>\n",
       "      <td>61270.480469</td>\n",
       "      <td>331.235138</td>\n",
       "      <td>230.351349</td>\n",
       "      <td>184074.718750</td>\n",
       "    </tr>\n",
       "    <tr>\n",
       "      <th>10</th>\n",
       "      <td>282.029236</td>\n",
       "      <td>-187.491882</td>\n",
       "      <td>203.751846</td>\n",
       "      <td>-120612.093750</td>\n",
       "      <td>995.976318</td>\n",
       "      <td>995.762939</td>\n",
       "      <td>131100.093750</td>\n",
       "      <td>111.391533</td>\n",
       "      <td>227.860535</td>\n",
       "      <td>64075.644531</td>\n",
       "      <td>-10.108583</td>\n",
       "      <td>139.313766</td>\n",
       "      <td>-9510.562500</td>\n",
       "      <td>77.189903</td>\n",
       "      <td>221.225983</td>\n",
       "      <td>46103.703125</td>\n",
       "    </tr>\n",
       "    <tr>\n",
       "      <th>11</th>\n",
       "      <td>284.341431</td>\n",
       "      <td>-1012.656677</td>\n",
       "      <td>-9.147774</td>\n",
       "      <td>262143.968750</td>\n",
       "      <td>752.182861</td>\n",
       "      <td>920.457275</td>\n",
       "      <td>107109.929688</td>\n",
       "      <td>12.867014</td>\n",
       "      <td>226.159317</td>\n",
       "      <td>7457.155762</td>\n",
       "      <td>-48.130737</td>\n",
       "      <td>112.418068</td>\n",
       "      <td>-56117.242188</td>\n",
       "      <td>-35.022781</td>\n",
       "      <td>215.673721</td>\n",
       "      <td>-20694.095703</td>\n",
       "    </tr>\n",
       "    <tr>\n",
       "      <th>12</th>\n",
       "      <td>328.329193</td>\n",
       "      <td>351.405609</td>\n",
       "      <td>599.378662</td>\n",
       "      <td>76845.304688</td>\n",
       "      <td>4785.523438</td>\n",
       "      <td>4582.937500</td>\n",
       "      <td>136865.953125</td>\n",
       "      <td>592.469421</td>\n",
       "      <td>581.469177</td>\n",
       "      <td>133551.625000</td>\n",
       "      <td>48.277615</td>\n",
       "      <td>121.465172</td>\n",
       "      <td>52095.949219</td>\n",
       "      <td>-21.403889</td>\n",
       "      <td>141.652618</td>\n",
       "      <td>-8170.087891</td>\n",
       "    </tr>\n",
       "    <tr>\n",
       "      <th>13</th>\n",
       "      <td>357.259613</td>\n",
       "      <td>225.722397</td>\n",
       "      <td>468.091064</td>\n",
       "      <td>63205.406250</td>\n",
       "      <td>4187.833496</td>\n",
       "      <td>4592.774414</td>\n",
       "      <td>119515.492188</td>\n",
       "      <td>556.575867</td>\n",
       "      <td>601.227051</td>\n",
       "      <td>121337.710938</td>\n",
       "      <td>40.345860</td>\n",
       "      <td>112.058815</td>\n",
       "      <td>47191.402344</td>\n",
       "      <td>65.366669</td>\n",
       "      <td>211.022842</td>\n",
       "      <td>44953.542969</td>\n",
       "    </tr>\n",
       "    <tr>\n",
       "      <th>14</th>\n",
       "      <td>366.000763</td>\n",
       "      <td>794.685974</td>\n",
       "      <td>595.880371</td>\n",
       "      <td>174802.000000</td>\n",
       "      <td>3331.592529</td>\n",
       "      <td>3040.480225</td>\n",
       "      <td>143621.546875</td>\n",
       "      <td>657.354553</td>\n",
       "      <td>548.276672</td>\n",
       "      <td>157148.359375</td>\n",
       "      <td>-93.082855</td>\n",
       "      <td>117.692764</td>\n",
       "      <td>-103664.453125</td>\n",
       "      <td>188.427505</td>\n",
       "      <td>197.042969</td>\n",
       "      <td>127017.820312</td>\n",
       "    </tr>\n",
       "    <tr>\n",
       "      <th>15</th>\n",
       "      <td>398.258453</td>\n",
       "      <td>585.471558</td>\n",
       "      <td>521.418213</td>\n",
       "      <td>147173.468750</td>\n",
       "      <td>644.405579</td>\n",
       "      <td>541.868103</td>\n",
       "      <td>155874.703125</td>\n",
       "      <td>-155.235550</td>\n",
       "      <td>192.147354</td>\n",
       "      <td>-105892.867188</td>\n",
       "      <td>35.947147</td>\n",
       "      <td>119.206459</td>\n",
       "      <td>39525.246094</td>\n",
       "      <td>105.463974</td>\n",
       "      <td>179.969101</td>\n",
       "      <td>72989.953125</td>\n",
       "    </tr>\n",
       "    <tr>\n",
       "      <th>16</th>\n",
       "      <td>399.273560</td>\n",
       "      <td>-381.935516</td>\n",
       "      <td>301.747253</td>\n",
       "      <td>-165903.921875</td>\n",
       "      <td>2291.663330</td>\n",
       "      <td>1934.896973</td>\n",
       "      <td>155239.734375</td>\n",
       "      <td>144.115906</td>\n",
       "      <td>367.639954</td>\n",
       "      <td>51380.597656</td>\n",
       "      <td>-68.496941</td>\n",
       "      <td>106.996826</td>\n",
       "      <td>-83909.320312</td>\n",
       "      <td>58.296169</td>\n",
       "      <td>206.515259</td>\n",
       "      <td>37494.082031</td>\n",
       "    </tr>\n",
       "    <tr>\n",
       "      <th>17</th>\n",
       "      <td>414.500092</td>\n",
       "      <td>921.505249</td>\n",
       "      <td>605.422974</td>\n",
       "      <td>199502.734375</td>\n",
       "      <td>1653.819092</td>\n",
       "      <td>1595.497437</td>\n",
       "      <td>135863.187500</td>\n",
       "      <td>155.552124</td>\n",
       "      <td>290.871429</td>\n",
       "      <td>70094.640625</td>\n",
       "      <td>56.368000</td>\n",
       "      <td>82.054794</td>\n",
       "      <td>90040.640625</td>\n",
       "      <td>273.669769</td>\n",
       "      <td>217.564926</td>\n",
       "      <td>162404.125000</td>\n",
       "    </tr>\n",
       "    <tr>\n",
       "      <th>18</th>\n",
       "      <td>427.865601</td>\n",
       "      <td>440.586273</td>\n",
       "      <td>373.116455</td>\n",
       "      <td>154773.453125</td>\n",
       "      <td>1148.250000</td>\n",
       "      <td>1210.700073</td>\n",
       "      <td>124311.070312</td>\n",
       "      <td>80.348282</td>\n",
       "      <td>173.472931</td>\n",
       "      <td>60709.242188</td>\n",
       "      <td>93.854462</td>\n",
       "      <td>111.149811</td>\n",
       "      <td>110676.679688</td>\n",
       "      <td>-125.311325</td>\n",
       "      <td>98.769356</td>\n",
       "      <td>-158591.218750</td>\n",
       "    </tr>\n",
       "    <tr>\n",
       "      <th>19</th>\n",
       "      <td>441.005524</td>\n",
       "      <td>-242.047653</td>\n",
       "      <td>342.473022</td>\n",
       "      <td>-92636.992188</td>\n",
       "      <td>835.874146</td>\n",
       "      <td>797.459961</td>\n",
       "      <td>137385.828125</td>\n",
       "      <td>-68.571823</td>\n",
       "      <td>175.284637</td>\n",
       "      <td>-51275.718750</td>\n",
       "      <td>7.194883</td>\n",
       "      <td>113.638252</td>\n",
       "      <td>8298.682617</td>\n",
       "      <td>68.745186</td>\n",
       "      <td>247.360489</td>\n",
       "      <td>35201.285156</td>\n",
       "    </tr>\n",
       "  </tbody>\n",
       "</table>\n",
       "</div>"
      ],
      "text/plain": [
       "         HDR-T        FSC-A       FSC-H          FSC-W        SSC-A  \\\n",
       "0    49.965588  -178.884857  353.545868  -66318.968750  1533.739746   \n",
       "1    76.527428   852.657959  835.975281  133687.671875  2550.609375   \n",
       "2    84.873825   149.076706  249.545868   78301.367188   649.180542   \n",
       "3   102.074173   137.832306  385.545868   46858.125000  1889.812378   \n",
       "4   128.748810   728.969604  403.975311  236518.171875  4610.208008   \n",
       "5   137.941116   294.453003  438.331726   88048.710938  2904.758545   \n",
       "6   150.968262   318.913757  529.555420   78935.390625   661.374207   \n",
       "7   219.036514   452.674591  488.936646  121351.023438  3811.465820   \n",
       "8   264.772491   738.538696  699.472595  138392.468750  5394.855957   \n",
       "9   270.806732   302.953156  484.002472   82042.296875  1925.513184   \n",
       "10  282.029236  -187.491882  203.751846 -120612.093750   995.976318   \n",
       "11  284.341431 -1012.656677   -9.147774  262143.968750   752.182861   \n",
       "12  328.329193   351.405609  599.378662   76845.304688  4785.523438   \n",
       "13  357.259613   225.722397  468.091064   63205.406250  4187.833496   \n",
       "14  366.000763   794.685974  595.880371  174802.000000  3331.592529   \n",
       "15  398.258453   585.471558  521.418213  147173.468750   644.405579   \n",
       "16  399.273560  -381.935516  301.747253 -165903.921875  2291.663330   \n",
       "17  414.500092   921.505249  605.422974  199502.734375  1653.819092   \n",
       "18  427.865601   440.586273  373.116455  154773.453125  1148.250000   \n",
       "19  441.005524  -242.047653  342.473022  -92636.992188   835.874146   \n",
       "\n",
       "          SSC-H          SSC-W        V2-A        V2-H           V2-W  \\\n",
       "0   1719.344116  116922.687500   -1.853082  155.241486   -1564.576538   \n",
       "1   2268.379883  147379.843750  453.825867  473.883545  125524.226562   \n",
       "2    583.344177  145864.812500  176.183197  259.241486   89077.890625   \n",
       "3   1815.344116  136448.781250  393.574860  483.241486  106751.273438   \n",
       "4   4812.379883  125565.562500  815.520630  841.883545  126967.585938   \n",
       "5   2786.016846  136658.359375  173.035522  283.623871   79965.453125   \n",
       "6    563.780579  153761.312500   16.699892  191.774536   11413.863281   \n",
       "7   3822.007568  130710.484375  347.217773  396.821594  114687.632812   \n",
       "8   5304.784668  133297.500000  617.679260  547.107300  147979.125000   \n",
       "9   1823.219971  138425.906250  169.946136  396.386536   56195.601562   \n",
       "10   995.762939  131100.093750  111.391533  227.860535   64075.644531   \n",
       "11   920.457275  107109.929688   12.867014  226.159317    7457.155762   \n",
       "12  4582.937500  136865.953125  592.469421  581.469177  133551.625000   \n",
       "13  4592.774414  119515.492188  556.575867  601.227051  121337.710938   \n",
       "14  3040.480225  143621.546875  657.354553  548.276672  157148.359375   \n",
       "15   541.868103  155874.703125 -155.235550  192.147354 -105892.867188   \n",
       "16  1934.896973  155239.734375  144.115906  367.639954   51380.597656   \n",
       "17  1595.497437  135863.187500  155.552124  290.871429   70094.640625   \n",
       "18  1210.700073  124311.070312   80.348282  173.472931   60709.242188   \n",
       "19   797.459961  137385.828125  -68.571823  175.284637  -51275.718750   \n",
       "\n",
       "          Y2-A        Y2-H           Y2-W        B1-A        B1-H  \\\n",
       "0    76.817879  161.987320   62157.167969   37.428463  123.476585   \n",
       "1    -8.646938   95.399338  -11880.287109   81.703102  203.511353   \n",
       "2   103.054802  169.987320   79462.390625  -63.583694  113.396584   \n",
       "3    67.447548  177.987320   49669.183594  -30.450207  220.916580   \n",
       "4   -49.876392   95.399338  -68526.664062   74.469208  284.151367   \n",
       "5   -59.903950  102.645958  -76493.320312    8.475421  221.955460   \n",
       "6   -50.850262  126.095673  -52857.050781  -64.974960  115.337296   \n",
       "7   -54.259144  166.497772  -42714.414062  168.545929  217.445038   \n",
       "8   101.993309  171.649246   77882.468750   88.940910  135.640656   \n",
       "9    36.483852   78.047562   61270.480469  331.235138  230.351349   \n",
       "10  -10.108583  139.313766   -9510.562500   77.189903  221.225983   \n",
       "11  -48.130737  112.418068  -56117.242188  -35.022781  215.673721   \n",
       "12   48.277615  121.465172   52095.949219  -21.403889  141.652618   \n",
       "13   40.345860  112.058815   47191.402344   65.366669  211.022842   \n",
       "14  -93.082855  117.692764 -103664.453125  188.427505  197.042969   \n",
       "15   35.947147  119.206459   39525.246094  105.463974  179.969101   \n",
       "16  -68.496941  106.996826  -83909.320312   58.296169  206.515259   \n",
       "17   56.368000   82.054794   90040.640625  273.669769  217.564926   \n",
       "18   93.854462  111.149811  110676.679688 -125.311325   98.769356   \n",
       "19    7.194883  113.638252    8298.682617   68.745186  247.360489   \n",
       "\n",
       "             B1-W  \n",
       "0    38717.894531  \n",
       "1    55865.160156  \n",
       "2   -66386.359375  \n",
       "3   -12834.671875  \n",
       "4    39531.890625  \n",
       "5     6873.025879  \n",
       "6   -71095.257812  \n",
       "7   102057.468750  \n",
       "8    90575.921875  \n",
       "9   184074.718750  \n",
       "10   46103.703125  \n",
       "11  -20694.095703  \n",
       "12   -8170.087891  \n",
       "13   44953.542969  \n",
       "14  127017.820312  \n",
       "15   72989.953125  \n",
       "16   37494.082031  \n",
       "17  162404.125000  \n",
       "18 -158591.218750  \n",
       "19   35201.285156  "
      ]
     },
     "execution_count": 6,
     "metadata": {},
     "output_type": "execute_result"
    }
   ],
   "source": [
    "sample.get_data().iloc[:20]"
   ]
  },
  {
   "cell_type": "markdown",
   "metadata": {},
   "source": [
    "### Loading all fcs files in a folder into a plate (Recommended)"
   ]
  },
  {
   "cell_type": "code",
   "execution_count": 7,
   "metadata": {},
   "outputs": [
    {
     "name": "stdout",
     "output_type": "stream",
     "text": [
      "Loading files from directory path: /home/eyurtsev/src/FlowCytometryTools/FlowCytometryTools/tests/data/Plate01\n"
     ]
    }
   ],
   "source": [
    "# You can insert your own directory instead of datadir here.\n",
    "datadir = os.path.join(FlowCytometryTools.__path__[0], 'tests', 'data', 'Plate01')\n",
    "print('Loading files from directory path: {0}'.format(datadir))\n",
    "\n",
    "# Load the files\n",
    "plate = FCPlate.from_dir(ID='Test Plate', path=datadir, parser='name')"
   ]
  },
  {
   "cell_type": "code",
   "execution_count": 8,
   "metadata": {},
   "outputs": [
    {
     "name": "stdout",
     "output_type": "stream",
     "text": [
      "ID:\n",
      "Test Plate\n",
      "\n",
      "Data:\n",
      "  1  2   3   4  5   6   7  8  9  10 11 12\n",
      "A        A3  A4     A6  A7               \n",
      "B        B3  B4                          \n",
      "C                       C7               \n",
      "D                                        \n",
      "E                                        \n",
      "F                                        \n",
      "G                                        \n",
      "H                                        \n"
     ]
    }
   ],
   "source": [
    "print(plate)"
   ]
  },
  {
   "cell_type": "markdown",
   "metadata": {},
   "source": [
    "## Transformations"
   ]
  },
  {
   "cell_type": "raw",
   "metadata": {},
   "source": [
    "One of the first things you should do with your data is tranform the fluorescence channels, so that they are easy to visualize.\n",
    "We will transform channels Y2-A and B1-A (two fluorescent channels) with an hlog transformation."
   ]
  },
  {
   "cell_type": "code",
   "execution_count": 9,
   "metadata": {},
   "outputs": [],
   "source": [
    "plate = FCPlate.from_dir(ID='Test Plate', path=datadir,parser='name').transform('hlog', channels=('Y2-A', 'B1-A'))\n",
    "# The line above is equivalent to the two steps below.\n",
    "# plate = FCPlate.from_dir(ID='Test Plate', path=datadir)\n",
    "# plate = plate.transform('hlog', channels=('Y2-A', 'B1-A'))                                                                 "
   ]
  },
  {
   "cell_type": "markdown",
   "metadata": {},
   "source": [
    "### Examine the contents of the plate"
   ]
  },
  {
   "cell_type": "raw",
   "metadata": {},
   "source": [
    "The layout function tells for which wells the datafiles have been loaded."
   ]
  },
  {
   "cell_type": "code",
   "execution_count": 10,
   "metadata": {},
   "outputs": [
    {
     "name": "stdout",
     "output_type": "stream",
     "text": [
      "ID:\n",
      "Test Plate\n",
      "\n",
      "Data:\n",
      "    3   4   6   7\n",
      "A  A3  A4  A6  A7\n",
      "B  B3  B4        \n",
      "C              C7\n"
     ]
    }
   ],
   "source": [
    "print(plate.dropna())"
   ]
  },
  {
   "cell_type": "markdown",
   "metadata": {},
   "source": [
    "# Basics"
   ]
  },
  {
   "cell_type": "markdown",
   "metadata": {},
   "source": [
    "### Let's pick single well"
   ]
  },
  {
   "cell_type": "raw",
   "metadata": {},
   "source": [
    "Let's work with well 'A3' from the plate."
   ]
  },
  {
   "cell_type": "code",
   "execution_count": 11,
   "metadata": {},
   "outputs": [
    {
     "name": "stdout",
     "output_type": "stream",
     "text": [
      "<FCMeasurement 'A3'>\n"
     ]
    }
   ],
   "source": [
    "well = plate['A3']\n",
    "print(well)"
   ]
  },
  {
   "cell_type": "code",
   "execution_count": 12,
   "metadata": {},
   "outputs": [
    {
     "data": {
      "text/plain": [
       "303.09112548828125"
      ]
     },
     "execution_count": 12,
     "metadata": {},
     "output_type": "execute_result"
    }
   ],
   "source": [
    "well.get_data()['Y2-A'].median()"
   ]
  },
  {
   "cell_type": "markdown",
   "metadata": {},
   "source": [
    "Before we can do any plotting, we need to figure out what information was collected by the flow cytometer."
   ]
  },
  {
   "cell_type": "code",
   "execution_count": 13,
   "metadata": {},
   "outputs": [
    {
     "name": "stdout",
     "output_type": "stream",
     "text": [
      "('HDR-T', 'FSC-A', 'FSC-H', 'FSC-W', 'SSC-A', 'SSC-H', 'SSC-W', 'V2-A', 'V2-H', 'V2-W', 'Y2-A', 'Y2-H', 'Y2-W', 'B1-A', 'B1-H', 'B1-W')\n"
     ]
    }
   ],
   "source": [
    "print(well.channel_names)"
   ]
  },
  {
   "cell_type": "code",
   "execution_count": 14,
   "metadata": {},
   "outputs": [
    {
     "name": "stdout",
     "output_type": "stream",
     "text": [
      "                 $PnN $PnG  $PnB    $PnR                  $PnE   $PnS\n",
      "Channel Number                                                       \n",
      "1               HDR-T    1    32  262144  [0.000000, 0.000000]  HDR-T\n",
      "2               FSC-A    1    32  262144  [0.000000, 0.000000]  FSC-A\n",
      "3               FSC-H    1    32  262144  [0.000000, 0.000000]  FSC-H\n",
      "4               FSC-W    1    32  262144  [0.000000, 0.000000]  FSC-W\n",
      "5               SSC-A    1    32  262144  [0.000000, 0.000000]  SSC-A\n",
      "6               SSC-H    1    32  262144  [0.000000, 0.000000]  SSC-H\n",
      "7               SSC-W    1    32  262144  [0.000000, 0.000000]  SSC-W\n",
      "8                V2-A    1    32  262144  [0.000000, 0.000000]   V2-A\n",
      "9                V2-H    1    32  262144  [0.000000, 0.000000]   V2-H\n",
      "10               V2-W    1    32  262144  [0.000000, 0.000000]   V2-W\n",
      "11               Y2-A    1    32  262144  [0.000000, 0.000000]   Y2-A\n",
      "12               Y2-H    1    32  262144  [0.000000, 0.000000]   Y2-H\n",
      "13               Y2-W    1    32  262144  [0.000000, 0.000000]   Y2-W\n",
      "14               B1-A    1    32  262144  [0.000000, 0.000000]   B1-A\n",
      "15               B1-H    1    32  262144  [0.000000, 0.000000]   B1-H\n",
      "16               B1-W    1    32  262144  [0.000000, 0.000000]   B1-W\n"
     ]
    }
   ],
   "source": [
    "print(well.channels)"
   ]
  },
  {
   "cell_type": "markdown",
   "metadata": {},
   "source": [
    "If you want to understand what the different fields mean, you need to read the specification for the FCS format. To check which FCS format was used do the following:"
   ]
  },
  {
   "cell_type": "code",
   "execution_count": 15,
   "metadata": {},
   "outputs": [
    {
     "data": {
      "text/plain": [
       "b'FCS3.0'"
      ]
     },
     "execution_count": 15,
     "metadata": {},
     "output_type": "execute_result"
    }
   ],
   "source": [
    "well.meta['__header__']['FCS format']"
   ]
  },
  {
   "cell_type": "markdown",
   "metadata": {},
   "source": [
    "There is more meta data buried inside of each FCS file. This meta data is stored inside of a dictionary called meta."
   ]
  },
  {
   "cell_type": "code",
   "execution_count": 16,
   "metadata": {},
   "outputs": [
    {
     "name": "stdout",
     "output_type": "stream",
     "text": [
      "<class 'dict'>\n",
      "dict_keys(['$ENDSTEXT', '$BYTEORD', '_channel_names_', '$NEXTDATA', '$DATE', '$SYS', '$ETIM', '$ENDANALYSIS', '$TOT', '$CYT', '$FIL', '$BTIM', '$PAR', '__header__', '_channels_', '$DATATYPE', '$BEGINDATA', '$CYTSN', '$MODE', '$OP', '$BEGINANALYSIS', '$ENDDATA', '$BEGINSTEXT', '$SRC', '$CELLS'])\n"
     ]
    }
   ],
   "source": [
    "print(type(well.meta))\n",
    "print(well.meta.keys())"
   ]
  },
  {
   "cell_type": "markdown",
   "metadata": {},
   "source": [
    "For example, one of the keys is \\$TOT (Total number of events) and another is \\$DATE (Date of measurement)."
   ]
  },
  {
   "cell_type": "code",
   "execution_count": 17,
   "metadata": {},
   "outputs": [
    {
     "name": "stdout",
     "output_type": "stream",
     "text": [
      "10000\n"
     ]
    }
   ],
   "source": [
    "print(well.meta['$TOT'])"
   ]
  },
  {
   "cell_type": "code",
   "execution_count": 18,
   "metadata": {},
   "outputs": [
    {
     "name": "stdout",
     "output_type": "stream",
     "text": [
      "2013-Jul-19\n"
     ]
    }
   ],
   "source": [
    "print(well.meta['$DATE'])"
   ]
  },
  {
   "cell_type": "markdown",
   "metadata": {},
   "source": [
    "# Plotting"
   ]
  },
  {
   "cell_type": "markdown",
   "metadata": {},
   "source": [
    "<pre>\n",
    "You'll find that some basic plotting functionality has already been implemented for you.\n",
    "Let's check it out by first plotting 1d and 2d histograms on single wells, and then we'll move on to plots on an entire 96-well plate.\n",
    "</pre>"
   ]
  },
  {
   "cell_type": "markdown",
   "metadata": {},
   "source": [
    "#### 1d histograms"
   ]
  },
  {
   "cell_type": "code",
   "execution_count": 19,
   "metadata": {},
   "outputs": [
    {
     "name": "stdout",
     "output_type": "stream",
     "text": [
      "Populating the interactive namespace from numpy and matplotlib\n"
     ]
    },
    {
     "name": "stderr",
     "output_type": "stream",
     "text": [
      "/home/eyurtsev/.envs/analysis_p3/lib/python3.5/site-packages/IPython/core/magics/pylab.py:160: UserWarning: pylab import has clobbered these variables: ['sample']\n",
      "`%matplotlib` prevents importing * from pylab and numpy\n",
      "  \"\\n`%matplotlib` prevents importing * from pylab and numpy\"\n"
     ]
    }
   ],
   "source": [
    "%pylab inline"
   ]
  },
  {
   "cell_type": "code",
   "execution_count": 20,
   "metadata": {},
   "outputs": [
    {
     "data": {
      "image/png": "[encoded data removed]",
      "text/plain": [
       "<matplotlib.figure.Figure at 0x7f4e86784b70>"
      ]
     },
     "metadata": {},
     "output_type": "display_data"
    }
   ],
   "source": [
    "figure(figsize=(10, 10))\n",
    "well.plot('B1-A', bins=100);"
   ]
  },
  {
   "cell_type": "raw",
   "metadata": {},
   "source": [
    "The plot function accepts all the same arguments as does the matplotlib histogram function."
   ]
  },
  {
   "cell_type": "code",
   "execution_count": 21,
   "metadata": {},
   "outputs": [
    {
     "data": {
      "image/png": "[encoded data removed]",
      "text/plain": [
       "<matplotlib.figure.Figure at 0x7f4e86783a58>"
      ]
     },
     "metadata": {},
     "output_type": "display_data"
    }
   ],
   "source": [
    "figure(figsize=(10, 10))\n",
    "well.plot('B1-A', bins=100, alpha=0.7, color='green', normed=1);"
   ]
  },
  {
   "cell_type": "markdown",
   "metadata": {},
   "source": [
    "#### 2d histograms"
   ]
  },
  {
   "cell_type": "raw",
   "metadata": {},
   "source": [
    "If you feed in the names of two channels to the plot function, it will plot a 2d histogram.\n",
    "Let's plots the channels B1-A and Y2-A on the x and y axis respectively. "
   ]
  },
  {
   "cell_type": "code",
   "execution_count": 22,
   "metadata": {},
   "outputs": [
    {
     "name": "stderr",
     "output_type": "stream",
     "text": [
      "/home/eyurtsev/.envs/analysis_p3/lib/python3.5/site-packages/matplotlib/colors.py:1012: RuntimeWarning: invalid value encountered in less_equal\n",
      "  mask |= resdat <= 0\n"
     ]
    },
    {
     "data": {
      "image/png": "[encoded data removed]",
      "text/plain": [
       "<matplotlib.figure.Figure at 0x7f4e84666b70>"
      ]
     },
     "metadata": {},
     "output_type": "display_data"
    }
   ],
   "source": [
    "figure(figsize=(10, 10))\n",
    "well.plot(['B1-A', 'Y2-A']);"
   ]
  },
  {
   "cell_type": "markdown",
   "metadata": {},
   "source": [
    "<pre>\n",
    "This plot function accepts all the same arguments as does the matplotlib pcolormesh function.\n",
    "For example, we can change the default colormap used for plotting.\n",
    "</pre>"
   ]
  },
  {
   "cell_type": "code",
   "execution_count": 23,
   "metadata": {},
   "outputs": [
    {
     "name": "stderr",
     "output_type": "stream",
     "text": [
      "/home/eyurtsev/.envs/analysis_p3/lib/python3.5/site-packages/matplotlib/colors.py:1012: RuntimeWarning: invalid value encountered in less_equal\n",
      "  mask |= resdat <= 0\n"
     ]
    },
    {
     "data": {
      "image/png": "[encoded data removed]",
      "text/plain": [
       "<matplotlib.figure.Figure at 0x7f4e846370b8>"
      ]
     },
     "metadata": {},
     "output_type": "display_data"
    }
   ],
   "source": [
    "well.plot(['B1-A', 'Y2-A'], cmap=cm.Oranges, colorbar=False);"
   ]
  },
  {
   "cell_type": "markdown",
   "metadata": {},
   "source": [
    "<pre>\n",
    "Also, instead of plotting histograms, we can choose to plot a scatter plot by setting the argument <b>kind='scatter'</b>.\n",
    "In this case, the plot function will behave like the matplotlib scatter function and pass all additional arguments to scatter.\n",
    "</pre>"
   ]
  },
  {
   "cell_type": "code",
   "execution_count": 24,
   "metadata": {},
   "outputs": [
    {
     "data": {
      "image/png": "[encoded data removed]",
      "text/plain": [
       "<matplotlib.figure.Figure at 0x7f4e83f7b7b8>"
      ]
     },
     "metadata": {},
     "output_type": "display_data"
    }
   ],
   "source": [
    "well.plot(['B1-A', 'Y2-A'], kind='scatter', color='red', s=1, alpha=0.3);"
   ]
  },
  {
   "cell_type": "markdown",
   "metadata": {},
   "source": [
    "# Working with Plates"
   ]
  },
  {
   "cell_type": "markdown",
   "metadata": {},
   "source": [
    "You can check which wells have data loaded in them simply by using the print command"
   ]
  },
  {
   "cell_type": "code",
   "execution_count": 25,
   "metadata": {},
   "outputs": [
    {
     "name": "stdout",
     "output_type": "stream",
     "text": [
      "ID:\n",
      "Test Plate\n",
      "\n",
      "Data:\n",
      "  1  2   3   4  5   6   7  8  9  10 11 12\n",
      "A        A3  A4     A6  A7               \n",
      "B        B3  B4                          \n",
      "C                       C7               \n",
      "D                                        \n",
      "E                                        \n",
      "F                                        \n",
      "G                                        \n",
      "H                                        \n"
     ]
    }
   ],
   "source": [
    "print(plate)"
   ]
  },
  {
   "cell_type": "markdown",
   "metadata": {},
   "source": [
    "Many of the wells in the plate above are empty. Use the function dropna() to compactify the plate."
   ]
  },
  {
   "cell_type": "code",
   "execution_count": 26,
   "metadata": {},
   "outputs": [
    {
     "name": "stdout",
     "output_type": "stream",
     "text": [
      "ID:\n",
      "Test Plate\n",
      "\n",
      "Data:\n",
      "    3   4   6   7\n",
      "A  A3  A4  A6  A7\n",
      "B  B3  B4        \n",
      "C              C7\n"
     ]
    },
    {
     "data": {
      "text/plain": [
       "(3, 4)"
      ]
     },
     "execution_count": 26,
     "metadata": {},
     "output_type": "execute_result"
    }
   ],
   "source": [
    "plate = plate.dropna()\n",
    "\n",
    "print(plate)\n",
    "plate.shape"
   ]
  },
  {
   "cell_type": "markdown",
   "metadata": {},
   "source": [
    "### Plotting plates"
   ]
  },
  {
   "cell_type": "code",
   "execution_count": 27,
   "metadata": {},
   "outputs": [
    {
     "data": {
      "image/png": "[encoded data removed]",
      "text/plain": [
       "<matplotlib.figure.Figure at 0x7f4e84643908>"
      ]
     },
     "metadata": {},
     "output_type": "display_data"
    }
   ],
   "source": [
    "figure(figsize=(10, 10))\n",
    "plate.plot('Y2-A', bins=100, autolabel=False, ylim=(0, 1000), \n",
    "           xlim=(-1000, 10000), \n",
    "           row_labels_kwargs={'size' : 'xx-large'});"
   ]
  },
  {
   "cell_type": "code",
   "execution_count": 28,
   "metadata": {},
   "outputs": [
    {
     "name": "stderr",
     "output_type": "stream",
     "text": [
      "/home/eyurtsev/.envs/analysis_p3/lib/python3.5/site-packages/matplotlib/colors.py:1012: RuntimeWarning: invalid value encountered in less_equal\n",
      "  mask |= resdat <= 0\n"
     ]
    },
    {
     "data": {
      "image/png": "[encoded data removed]",
      "text/plain": [
       "<matplotlib.figure.Figure at 0x7f4e84643f98>"
      ]
     },
     "metadata": {},
     "output_type": "display_data"
    }
   ],
   "source": [
    "figure(figsize=(10, 10))\n",
    "plate.plot(['B1-A', 'Y2-A']);"
   ]
  },
  {
   "cell_type": "raw",
   "metadata": {},
   "source": [
    "Note: The plot command supports the plotting of specific wells."
   ]
  },
  {
   "cell_type": "code",
   "execution_count": 29,
   "metadata": {},
   "outputs": [
    {
     "name": "stderr",
     "output_type": "stream",
     "text": [
      "/home/eyurtsev/.envs/analysis_p3/lib/python3.5/site-packages/matplotlib/colors.py:1012: RuntimeWarning: invalid value encountered in less_equal\n",
      "  mask |= resdat <= 0\n"
     ]
    },
    {
     "data": {
      "image/png": "[encoded data removed]",
      "text/plain": [
       "<matplotlib.figure.Figure at 0x7f4e8460a198>"
      ]
     },
     "metadata": {},
     "output_type": "display_data"
    }
   ],
   "source": [
    "figure(figsize=(10, 10))\n",
    "plate.plot(['B1-A', 'Y2-A'], ids=['A3', 'C7']);"
   ]
  },
  {
   "cell_type": "markdown",
   "metadata": {},
   "source": [
    "# Gating"
   ]
  },
  {
   "cell_type": "raw",
   "metadata": {},
   "source": [
    "Load the gates we need from the library."
   ]
  },
  {
   "cell_type": "code",
   "execution_count": 30,
   "metadata": {},
   "outputs": [],
   "source": [
    "from FlowCytometryTools import ThresholdGate, PolyGate"
   ]
  },
  {
   "cell_type": "markdown",
   "metadata": {},
   "source": [
    "## Creating Gates"
   ]
  },
  {
   "cell_type": "raw",
   "metadata": {},
   "source": [
    "When creating a gate, you will need to provide set(s) of coordinates, name(s) of channel(s) and the region. \n",
    "For example, the command below will set a gate that will pass only events where the Y2-A value is ABOVE the value 1000.0."
   ]
  },
  {
   "cell_type": "code",
   "execution_count": 31,
   "metadata": {},
   "outputs": [],
   "source": [
    "y2_gate = ThresholdGate(1000.0, 'Y2-A', region='above')"
   ]
  },
  {
   "cell_type": "markdown",
   "metadata": {},
   "source": [
    "### GUI for creating gates (alpha release) (NOT YET IMPLEMENTED. SKIP SECTION)"
   ]
  },
  {
   "cell_type": "raw",
   "metadata": {},
   "source": [
    "You can launch the GUI for creating the gates, by calling the view() method of a selected well.\n",
    "This is an alpha release of the GUI, so it's usable but buggy at the moment. These bugs will be fixed in future releases.\n",
    "NOTE: Click on list gates to see the gates that have been created. These will appear in your terminal!"
   ]
  },
  {
   "cell_type": "markdown",
   "metadata": {},
   "source": [
    "<B>Important:</B> You must install wx for python in order to use this GUI."
   ]
  },
  {
   "cell_type": "code",
   "execution_count": 32,
   "metadata": {},
   "outputs": [],
   "source": [
    "# plate['A3'].view() # Try if you have wx installed"
   ]
  },
  {
   "cell_type": "code",
   "execution_count": 33,
   "metadata": {},
   "outputs": [],
   "source": [
    "poly_gate = PolyGate([(7307.6923076923067, 5809.523809523811), (3483.5164835164837, 1455.7823129251719), (5901.0989010989015, -3714.2857142857138), \n",
    "(8230.7692307692305, 367.34693877551035), (8230.7692307692305, 367.34693877551035)], ['HDR-T', 'FSC-A'], region='in')\n"
   ]
  },
  {
   "cell_type": "markdown",
   "metadata": {},
   "source": [
    "### Visualizing Gates"
   ]
  },
  {
   "cell_type": "code",
   "execution_count": 34,
   "metadata": {},
   "outputs": [],
   "source": [
    "w = plate['A3']"
   ]
  },
  {
   "cell_type": "raw",
   "metadata": {},
   "source": [
    "Let's create a gate for picking up B1-A positive populations"
   ]
  },
  {
   "cell_type": "code",
   "execution_count": 35,
   "metadata": {},
   "outputs": [
    {
     "data": {
      "text/plain": [
       "(-1000, 9000)"
      ]
     },
     "execution_count": 35,
     "metadata": {},
     "output_type": "execute_result"
    },
    {
     "name": "stderr",
     "output_type": "stream",
     "text": [
      "/home/eyurtsev/.envs/analysis_p3/lib/python3.5/site-packages/matplotlib/colors.py:1012: RuntimeWarning: invalid value encountered in less_equal\n",
      "  mask |= resdat <= 0\n"
     ]
    },
    {
     "data": {
      "image/png": "[encoded data removed]",
      "text/plain": [
       "<matplotlib.figure.Figure at 0x7f4e8466edd8>"
      ]
     },
     "metadata": {},
     "output_type": "display_data"
    }
   ],
   "source": [
    "ax = subplot()\n",
    "b1_gate = ThresholdGate(2000.0, 'B1-A', region='above')\n",
    "\n",
    "plate['A3'].gate(y2_gate).plot(('B1-A', 'Y2-A'), ax=ax, cmap=cm.Reds, gates=[y2_gate]);\n",
    "plate['A3'].gate(~y2_gate).plot(('B1-A', 'Y2-A'), ax=ax, cmap=cm.gray);\n",
    "\n",
    "\n",
    "ylim(-1000, 9000)\n",
    "\n"
   ]
  },
  {
   "cell_type": "raw",
   "metadata": {},
   "source": [
    "Let's plot both gates across the entire plate"
   ]
  },
  {
   "cell_type": "raw",
   "metadata": {},
   "source": [
    "NOTE: The plotting function for plates already uses the subplots call. So be careful when using subplot(). When in doubt just create a new figure."
   ]
  },
  {
   "cell_type": "code",
   "execution_count": 36,
   "metadata": {},
   "outputs": [
    {
     "name": "stderr",
     "output_type": "stream",
     "text": [
      "/home/eyurtsev/.envs/analysis_p3/lib/python3.5/site-packages/matplotlib/colors.py:1012: RuntimeWarning: invalid value encountered in less_equal\n",
      "  mask |= resdat <= 0\n"
     ]
    },
    {
     "data": {
      "image/png": "[encoded data removed]",
      "text/plain": [
       "<matplotlib.figure.Figure at 0x7f4e84248a58>"
      ]
     },
     "metadata": {},
     "output_type": "display_data"
    }
   ],
   "source": [
    "figure(figsize=(8, 8))\n",
    "#suptitle('All gates plotted but not applied')\n",
    "plate.plot(('B1-A','Y2-A'), gates=[y2_gate, b1_gate]);"
   ]
  },
  {
   "cell_type": "markdown",
   "metadata": {},
   "source": [
    "## Applying gates to wells"
   ]
  },
  {
   "cell_type": "code",
   "execution_count": 37,
   "metadata": {},
   "outputs": [
    {
     "data": {
      "text/plain": [
       "(-1000, 10000)"
      ]
     },
     "execution_count": 37,
     "metadata": {},
     "output_type": "execute_result"
    },
    {
     "data": {
      "image/png": "[encoded data removed]",
      "text/plain": [
       "<matplotlib.figure.Figure at 0x7f4e841e2710>"
      ]
     },
     "metadata": {},
     "output_type": "display_data"
    }
   ],
   "source": [
    "original_well = plate['A3']\n",
    "gated_well = original_well.gate(y2_gate, )\n",
    "\n",
    "figure(figsize=(4, 10))\n",
    "ax = subplot(2, 1, 1)\n",
    "title('Original well')\n",
    "original_well.plot('Y2-A', bins=300, color='gray', ax=ax)\n",
    "xlim(-1000, 10000)\n",
    "grid(True)\n",
    "\n",
    "ax = subplot(2, 1, 2)\n",
    "title('Gated well')\n",
    "gated_well.plot('Y2-A', bins=300,  color='y', ax=ax)\n",
    "ylim(0, 400)\n",
    "grid(True)\n",
    "xlim(-1000, 10000)"
   ]
  },
  {
   "cell_type": "markdown",
   "metadata": {},
   "source": [
    "# Calculations"
   ]
  },
  {
   "cell_type": "markdown",
   "metadata": {},
   "source": [
    "### Example 01: Compute the total number of events"
   ]
  },
  {
   "cell_type": "markdown",
   "metadata": {},
   "source": [
    "<pre>\n",
    "To make calculations, you need to write a function that accepts as input a well and returns the desired calculation.\n",
    "As an example, we will create a function that counts the total number of events.\n",
    "</pre>"
   ]
  },
  {
   "cell_type": "code",
   "execution_count": 38,
   "metadata": {},
   "outputs": [],
   "source": [
    "well = plate['A3']"
   ]
  },
  {
   "cell_type": "markdown",
   "metadata": {},
   "source": [
    "<pre>\n",
    "To access the underlying data in the well, use the get_data function. \n",
    "The returned data is a pandas data frame.\n",
    "That's right. You have the power of pandas at your hands!\n",
    "</pre>"
   ]
  },
  {
   "cell_type": "code",
   "execution_count": 39,
   "metadata": {},
   "outputs": [
    {
     "name": "stdout",
     "output_type": "stream",
     "text": [
      "              HDR-T        FSC-A       FSC-H          FSC-W          SSC-A  \\\n",
      "0          2.018511   459.962982  437.354553  137847.578125     840.091370   \n",
      "1         27.451754  -267.174652  365.354553  -95849.679688    3476.902344   \n",
      "2         32.043865  -201.582336  501.354553  -52700.828125     480.270691   \n",
      "3         79.327492   291.259888  447.029755   85399.273438    8026.275879   \n",
      "4         79.731194  -397.168579  354.565308 -146821.125000    7453.750488   \n",
      "5        110.765800  -213.151566  478.311737  -58410.027344     452.228912   \n",
      "6        111.976913   -25.696339  582.488586   -5782.208496    2000.992676   \n",
      "7        153.861023    61.271519  390.160706   20583.775391     754.622620   \n",
      "8        172.078079  1462.823608  755.235168  253874.843750    4095.154785   \n",
      "9        261.800903   490.025482  472.358429  135974.328125     392.995544   \n",
      "10       263.869873   534.587524  376.680511  186018.265625     984.808228   \n",
      "11       265.030518   248.064026  358.465668   90703.937500    2999.723389   \n",
      "12       274.063354   188.443832  459.230011   53785.050781    5430.178711   \n",
      "13       291.422546   362.034393  635.977051   74613.656250     937.344238   \n",
      "14       298.487335   -10.813972  516.033325   -2746.739258    2533.215576   \n",
      "15       345.014038   272.654114  481.444275   74229.398438     523.147705   \n",
      "16       358.790375   313.187958  695.453735   59026.460938     582.636963   \n",
      "17       376.351410  -376.032715  328.491943 -150041.312500     346.980469   \n",
      "18       392.196747   482.570587  400.171875  158060.812500    3177.515137   \n",
      "19       425.754486   220.661453  378.628052   76387.734375     318.661469   \n",
      "20       451.187714  -248.385895  426.378082  -76355.789062    5736.044922   \n",
      "21       452.953918   425.292786  361.354553  154263.937500     909.431824   \n",
      "22       519.766663   352.167023  403.029755  114530.593750     691.181213   \n",
      "23       543.130920     8.566748  318.565308    3524.742676     738.971497   \n",
      "24       555.494263   -22.933847  322.311737   -9326.329102    1364.899170   \n",
      "25       561.903076   809.200134  626.488586  169298.343750     642.294800   \n",
      "26       564.274841   317.081543  618.160706   67232.539062    2967.894775   \n",
      "27       586.175659   290.595276  375.235168  101506.757812    2202.348145   \n",
      "28       597.883057  -113.423798  392.358429  -37890.570312     546.668945   \n",
      "29       626.899109  -321.860657  176.680496 -238775.203125    1987.433594   \n",
      "...             ...          ...         ...            ...            ...   \n",
      "9970  261592.031250   743.545898  452.680511  215291.015625     857.371765   \n",
      "9971  261600.171875  -167.041626  314.465668  -69624.390625     943.872864   \n",
      "9972  261607.843750  -339.105774  455.230011  -97636.953125     448.911072   \n",
      "9973  261618.281250   231.786804  431.977051   70329.570312    1733.822266   \n",
      "9974  261641.796875  -341.586639  400.033325 -111921.789062     677.890015   \n",
      "9975  261653.921875   172.391571  453.444275   49831.277344     536.266174   \n",
      "9976  261660.218750  -317.435272  467.453766  -89007.468750    2338.636963   \n",
      "9977  261675.703125   -39.637852  340.491943  -15258.547852     406.950592   \n",
      "9978  261704.625000  -288.607605  324.171875 -116692.343750     323.312561   \n",
      "9979  261721.625000  -258.162445  302.628052 -111813.390625     864.014709   \n",
      "9980  261742.625000  -504.195923  502.378082 -131546.281250     706.051392   \n",
      "9981  261754.781250   778.752441  843.475159  121014.398438    5842.011230   \n",
      "9982  261771.343750  -186.688126  346.244598  -70671.390625     667.164062   \n",
      "9983  261810.890625  -438.491058  256.666718 -223924.234375     421.852539   \n",
      "9984  261822.312500  -146.879547  325.936554  -59066.085938     609.654175   \n",
      "9985  261842.250000   213.711548  422.073456   66366.648438     716.060181   \n",
      "9986  261852.734375  -105.804909  171.963379  -80645.429688    1725.874634   \n",
      "9987  261888.515625   145.665268  506.687012   37681.324219  100512.023438   \n",
      "9988  261897.078125  -135.746658  436.502533  -40761.703125     652.270508   \n",
      "9989  261944.281250    59.007992  454.712341   17009.205078    5209.105957   \n",
      "9990  261961.421875   451.550995  481.806854  122841.117188    4014.355957   \n",
      "9991  261968.953125   224.912186  469.328857   62812.437500     842.355042   \n",
      "9992  261973.203125   -16.167212  280.231903   -7561.839844    2990.232422   \n",
      "9993  261988.109375    -8.409267  324.855652   -3392.951660     573.639648   \n",
      "9994  262005.984375  1046.955688  471.981659  262143.968750    4209.055176   \n",
      "9995  262021.171875   341.016266  467.188812   95673.703125    2361.898193   \n",
      "9996  262026.078125   163.916428  294.266754   73011.492188    1668.078857   \n",
      "9997  262041.468750  -126.070328  375.560028  -43999.066406    2507.476807   \n",
      "9998  262060.484375    47.093155  339.353973   18189.250000     674.123901   \n",
      "9999  262143.968750   484.894745  470.273987  135147.015625    3030.236572   \n",
      "\n",
      "              SSC-H          SSC-W        V2-A        V2-H           V2-W  \\\n",
      "0        747.917847  147225.328125   41.593452  240.153854   22701.017578   \n",
      "1       3163.917969  144038.046875  103.437637  336.153870   40332.058594   \n",
      "2        507.917877  123937.437500 -271.375580  256.153870 -138860.828125   \n",
      "3       6741.838867  156043.484375  -26.212378  207.677841  -16543.453125   \n",
      "4        609.884277  262143.968750   44.559933  216.036865   27035.013672   \n",
      "5        402.042755  147433.437500   38.142925  159.161224   31411.353516   \n",
      "6       1723.852295  152144.187500   43.018646  240.722046   23423.447266   \n",
      "7        602.574646  164145.468750   18.859106  186.154938   13278.727539   \n",
      "8       3969.850830  135209.140625  -54.389851  163.580246  -43580.972656   \n",
      "9        484.474518  106322.851562  -69.032112  170.862335  -52955.949219   \n",
      "10      1028.594116  125492.437500  -23.534731  262.883789  -11734.250977   \n",
      "11      3056.675293  128629.867188  469.274841  385.298157  159639.468750   \n",
      "12      4919.657715  144673.562500   67.309326  263.933807   33426.441406   \n",
      "13       601.198975  204357.609375  101.497505  240.720993   55265.148438   \n",
      "14      2198.922119  150998.359375   95.542686  209.376480   59810.781250   \n",
      "15       471.879944  145312.421875  123.619453  181.130569   89455.078125   \n",
      "16       656.606873  116306.109375  187.539444  232.449387  105748.484375   \n",
      "17       370.817688  122646.320312  -10.700120  162.067780   -8653.701172   \n",
      "18      3193.262451  130425.632812  -10.123411  193.713531   -6849.783691   \n",
      "19       431.684784   96754.851562 -184.101700  138.232773 -174564.812500   \n",
      "20      5516.021484  136300.203125  -74.736183  116.399185  -84157.125000   \n",
      "21       819.917847  145381.703125  326.451508  360.153870  118806.585938   \n",
      "22       549.838989  164765.515625  131.209183  255.677841   67263.750000   \n",
      "23       545.884277  177434.078125   76.419060  240.036865   41728.585938   \n",
      "24      1010.042725  177121.281250 -162.382156  191.161224 -111339.281250   \n",
      "25       739.852234  113788.757812   -1.958940  280.722046    -914.648926   \n",
      "26      2898.574707  134206.609375  151.917801  202.154938   98499.546875   \n",
      "27      1985.850830  145361.453125   11.202463  227.580246    6451.918945   \n",
      "28       708.474487  101137.007812  -31.550787  210.862335  -19611.964844   \n",
      "29      1740.594116  149659.765625  -72.260452  222.883804  -42494.437500   \n",
      "...             ...            ...         ...         ...            ...   \n",
      "9970     676.594177  166092.812500  210.723526  366.883789   75282.570312   \n",
      "9971     936.675293  132079.171875  -59.211815  249.298172  -31131.439453   \n",
      "9972     431.657715  136310.953125  114.160980  367.933807   40668.476562   \n",
      "9973    1497.198975  151787.140625    0.297938  280.720978     139.110779   \n",
      "9974     646.922180  137346.343750   69.305763  273.376495   33229.062500   \n",
      "9975     519.879944  135203.296875  116.123192  205.130569   74199.078125   \n",
      "9976    2240.606934  136806.609375   95.710205  280.449402   44731.519531   \n",
      "9977     530.817688  100486.156250   26.781202  122.067780   28756.693359   \n",
      "9978     449.262451   94326.210938  -70.093529  129.713531  -70827.609375   \n",
      "9979     871.684753  129918.687500  -34.176407  154.232773  -29044.216797   \n",
      "9980     740.021423  125055.257812 -235.905869  148.399185 -208361.343750   \n",
      "9981    5913.098145  129496.257812   12.028920  282.870361    5573.770996   \n",
      "9982     616.185547  141915.906250   99.301491  267.106995   48728.207031   \n",
      "9983     362.610779  152485.968750   75.024727  205.934341   47751.339844   \n",
      "9984     440.764740  181295.343750   55.614117  210.246155   34671.042969   \n",
      "9985     709.522400  132279.734375    7.203210  165.723618    5697.070312   \n",
      "9986    1537.572266  147124.031250  396.610809  371.905090  139779.140625   \n",
      "9987  104172.179688  126466.703125  -45.598888  233.680801  -25576.501953   \n",
      "9988     584.275818  146325.406250   16.772131  149.187881   14735.491211   \n",
      "9989    5269.897461  129560.007812  168.512115  185.100708  119325.421875   \n",
      "9990    4086.226807  128766.632812  168.421463  319.772156   69034.585938   \n",
      "9991     872.639771  126523.179688   99.968513  219.471222   59702.921875   \n",
      "9992    3119.378418  125645.460938  287.695374  500.477417   75345.671875   \n",
      "9993     539.784668  139292.765625  -83.159042  175.776855  -62009.425781   \n",
      "9994    4242.868164  130027.437500  278.732758  344.583130  106023.937500   \n",
      "9995    2157.065918  143518.437500  120.932793  232.387558   68208.914062   \n",
      "9996    1648.568237  132623.218750   22.592821  198.055237   14951.820312   \n",
      "9997    2325.905029  141304.140625 -200.780090  107.877144 -243950.171875   \n",
      "9998     730.005493  121038.500000  102.921608  239.510513   56323.792969   \n",
      "9999    3223.463867  123215.023438  -13.739475  206.219727   -8732.726562   \n",
      "\n",
      "             Y2-A         Y2-H           Y2-W         B1-A        B1-H  \\\n",
      "0      403.400513   153.630051   93802.468750  -466.195709  257.718353   \n",
      "1     6599.578125  4273.629883  170344.203125  -257.838379  255.798340   \n",
      "2      300.378418   121.630051   88188.023438  -354.030396  313.398346   \n",
      "3     -198.721146    98.122017  -72294.242188    69.175194  277.669250   \n",
      "4      -38.730309   127.326027  -10852.761719   370.192139  255.756256   \n",
      "5      127.777657    69.774826   65355.363281   325.565399  194.097565   \n",
      "6     6708.679688  5096.254395  157736.171875  1025.347046  404.683746   \n",
      "7      121.329124   156.695892   27632.718750   389.987152  251.474899   \n",
      "8     6801.536621  5447.772461  160919.937500  -317.786469  198.275803   \n",
      "9       52.695038   133.349457   14099.476562  -157.663895  238.842331   \n",
      "10      83.142990   133.033783   22301.199219  -772.762512  241.828354   \n",
      "11    3910.001465  1006.891479  154874.484375   303.151337  215.668442   \n",
      "12    6386.286133  3844.174561  157393.000000   -76.963470  173.872940   \n",
      "13     276.940979   148.165726   66739.687500    27.101770  156.360580   \n",
      "14     309.726440   110.300186  100276.421875   163.563187  152.625839   \n",
      "15     -50.527592   110.150932  -16366.738281   390.593018  209.497086   \n",
      "16      37.346298   103.209328   12910.211914   -49.248402  165.872452   \n",
      "17      97.987236   145.260025   24071.755859   219.037827  295.040344   \n",
      "18    6253.121094  3374.173340  160748.703125  -201.554459  183.441071   \n",
      "19     163.984589   141.921555   41241.128906   350.837036  303.710815   \n",
      "20    7163.998047  7784.524414  160931.578125   491.182861  228.030334   \n",
      "21    -146.821747   145.630051  -35982.468750  -287.940979  335.318359   \n",
      "22     166.004395   130.122025   45535.226562   147.067642  340.709259   \n",
      "23     264.005402   119.326027   78995.468750  -285.550629  223.276260   \n",
      "24     -23.653055    61.774830  -13660.385742  -203.178909  185.457565   \n",
      "25    7231.416016  8384.253906  160156.484375   783.107117  347.883759   \n",
      "26    6004.057617  2820.695801  158808.843750    36.444454  219.154892   \n",
      "27    6844.324707  5583.772461  163511.250000   152.093445  220.995804   \n",
      "28     300.288818   141.349457   75862.414062   -98.495438  230.042343   \n",
      "29     -47.654934   109.033783  -15594.260742    68.419487  170.628357   \n",
      "...           ...          ...            ...          ...         ...   \n",
      "9970  6725.090332  5049.033691  161644.812500  -423.403442  227.748352   \n",
      "9971   229.431946   146.891464   55760.804688   324.724487  166.388443   \n",
      "9972   197.259552   120.174500   58593.527344   308.298309  247.792938   \n",
      "9973  6585.547363  4800.165527  149770.140625   902.046448  215.560577   \n",
      "9974   477.930298   122.300186  139645.171875   484.918854  235.345840   \n",
      "9975   235.039734   138.150925   60739.000000   463.207550  317.017090   \n",
      "9976  6639.797363  4651.209473  162285.921875   586.244568  392.912445   \n",
      "9977    25.715891   133.260025    6884.803711  -399.278442  171.840347   \n",
      "9978   189.974121   130.173279   52093.777344   267.269836  188.721069   \n",
      "9979    71.097504   137.921555   18393.771484  1264.886353  323.390808   \n",
      "9980   176.159515   164.524521   38218.070312   554.400757  487.390320   \n",
      "9981  6814.267578  5366.619629  165332.796875   -92.517357  173.416199   \n",
      "9982   177.355728   184.664230   34281.312500   228.916641  256.755615   \n",
      "9983   211.983353   125.731979   60186.851562   642.547424  163.074356   \n",
      "9984   133.707413   118.883789   40138.957031  -369.900635  200.967377   \n",
      "9985   373.082947   138.705826   96075.445312    24.600780  145.282913   \n",
      "9986  6385.726562  3715.911865  162749.359375   -28.629005  269.186798   \n",
      "9987   268.389862   139.413010   68737.562500  1000.279724  442.103943   \n",
      "9988   117.292732   142.837219   29304.908203   153.180008  306.104950   \n",
      "9989  6873.727539  5859.289062  160274.156250  -149.456406  175.763168   \n",
      "9990  6637.909180  4461.833496  168885.062500   163.745712  263.570526   \n",
      "9991  6350.627441  3631.421143  161731.234375   120.571274  203.154007   \n",
      "9992  6493.302734  3887.071289  170539.265625    52.624512  110.491806   \n",
      "9993   159.846878   135.222427   42191.539062  -396.140930  172.906097   \n",
      "9994  5598.897461  2030.978882  167587.437500   260.679718  258.905914   \n",
      "9995  6269.274902  3372.731201  162922.031250  -408.842590  204.133194   \n",
      "9996  7104.573730  7363.271973  160161.421875   738.210449  245.859680   \n",
      "9997  6584.836914  4759.098633  150966.906250   278.142212  200.418015   \n",
      "9998   -25.996084   152.438705   -6084.192383   -66.346336  188.421722   \n",
      "9999  6605.191406  4271.519531  171287.421875   653.543030  276.044556   \n",
      "\n",
      "               B1-W  \n",
      "0     -63040.300781  \n",
      "1     -34034.042969  \n",
      "2     -41931.687500  \n",
      "3       8514.489258  \n",
      "4      51291.074219  \n",
      "5      59442.195312  \n",
      "6      90021.945312  \n",
      "7      54782.550781  \n",
      "8     -57015.156250  \n",
      "9     -23975.322266  \n",
      "10   -112171.023438  \n",
      "11     53970.460938  \n",
      "12    -14344.322266  \n",
      "13      7649.988281  \n",
      "14     38825.871094  \n",
      "15     66989.101562  \n",
      "16     -7421.590332  \n",
      "17     26120.888672  \n",
      "18    -38552.113281  \n",
      "19     39311.222656  \n",
      "20     75349.101562  \n",
      "21    -27519.271484  \n",
      "22     16172.634766  \n",
      "23    -43827.050781  \n",
      "24    -40567.070312  \n",
      "25     79267.367188  \n",
      "26      7609.915039  \n",
      "27     24197.738281  \n",
      "28    -15356.952148  \n",
      "29     12861.644531  \n",
      "...             ...  \n",
      "9970  -61995.523438  \n",
      "9971   66763.328125  \n",
      "9972   44321.554688  \n",
      "9973  146065.968750  \n",
      "9974   72714.250000  \n",
      "9975   52490.988281  \n",
      "9976   53222.484375  \n",
      "9977  -81438.164062  \n",
      "9978   48919.941406  \n",
      "9979  138852.156250  \n",
      "9980   39154.171875  \n",
      "9981  -18259.996094  \n",
      "9982   32173.828125  \n",
      "9983  138613.796875  \n",
      "9984  -63685.988281  \n",
      "9985    6033.519531  \n",
      "9986      66.089546  \n",
      "9987   79965.625000  \n",
      "9988   17830.277344  \n",
      "9989  -27261.343750  \n",
      "9990   23284.343750  \n",
      "9991   21995.103516  \n",
      "9992   21840.560547  \n",
      "9993  -81447.640625  \n",
      "9994   37765.742188  \n",
      "9995  -68438.195312  \n",
      "9996  105963.726562  \n",
      "9997   46427.785156  \n",
      "9998  -10856.109375  \n",
      "9999   83296.437500  \n",
      "\n",
      "[10000 rows x 16 columns]\n"
     ]
    }
   ],
   "source": [
    "data = well.get_data()\n",
    "\n",
    "print(data)"
   ]
  },
  {
   "cell_type": "code",
   "execution_count": 40,
   "metadata": {},
   "outputs": [
    {
     "data": {
      "text/plain": [
       "0        403.400513\n",
       "1       6599.578125\n",
       "2        300.378418\n",
       "3       -198.721146\n",
       "4        -38.730309\n",
       "5        127.777657\n",
       "6       6708.679688\n",
       "7        121.329124\n",
       "8       6801.536621\n",
       "9         52.695038\n",
       "10        83.142990\n",
       "11      3910.001465\n",
       "12      6386.286133\n",
       "13       276.940979\n",
       "14       309.726440\n",
       "15       -50.527592\n",
       "16        37.346298\n",
       "17        97.987236\n",
       "18      6253.121094\n",
       "19       163.984589\n",
       "20      7163.998047\n",
       "21      -146.821747\n",
       "22       166.004395\n",
       "23       264.005402\n",
       "24       -23.653055\n",
       "25      7231.416016\n",
       "26      6004.057617\n",
       "27      6844.324707\n",
       "28       300.288818\n",
       "29       -47.654934\n",
       "           ...     \n",
       "9970    6725.090332\n",
       "9971     229.431946\n",
       "9972     197.259552\n",
       "9973    6585.547363\n",
       "9974     477.930298\n",
       "9975     235.039734\n",
       "9976    6639.797363\n",
       "9977      25.715891\n",
       "9978     189.974121\n",
       "9979      71.097504\n",
       "9980     176.159515\n",
       "9981    6814.267578\n",
       "9982     177.355728\n",
       "9983     211.983353\n",
       "9984     133.707413\n",
       "9985     373.082947\n",
       "9986    6385.726562\n",
       "9987     268.389862\n",
       "9988     117.292732\n",
       "9989    6873.727539\n",
       "9990    6637.909180\n",
       "9991    6350.627441\n",
       "9992    6493.302734\n",
       "9993     159.846878\n",
       "9994    5598.897461\n",
       "9995    6269.274902\n",
       "9996    7104.573730\n",
       "9997    6584.836914\n",
       "9998     -25.996084\n",
       "9999    6605.191406\n",
       "Name: Y2-A, Length: 10000, dtype: float32"
      ]
     },
     "execution_count": 40,
     "metadata": {},
     "output_type": "execute_result"
    }
   ],
   "source": [
    "data['Y2-A']"
   ]
  },
  {
   "cell_type": "code",
   "execution_count": 41,
   "metadata": {},
   "outputs": [
    {
     "data": {
      "text/plain": [
       "count    10000.000000\n",
       "mean      2871.121094\n",
       "std       3210.111084\n",
       "min       -528.319885\n",
       "25%         39.917786\n",
       "50%        303.091125\n",
       "75%       6510.390747\n",
       "max       8895.525391\n",
       "Name: Y2-A, dtype: float64"
      ]
     },
     "execution_count": 41,
     "metadata": {},
     "output_type": "execute_result"
    }
   ],
   "source": [
    "data['Y2-A'].describe()"
   ]
  }
 ],
 "metadata": {
  "kernelspec": {
   "display_name": "Python 3",
   "language": "python",
   "name": "python3"
  },
  "language_info": {
   "codemirror_mode": {
    "name": "ipython",
    "version": 3
   },
   "file_extension": ".py",
   "mimetype": "text/x-python",
   "name": "python",
   "nbconvert_exporter": "python",
   "pygments_lexer": "ipython3",
   "version": "3.5.2"
  }
 },
 "nbformat": 4,
 "nbformat_minor": 1
}
